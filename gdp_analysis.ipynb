{
 "cells": [
  {
   "cell_type": "code",
   "execution_count": 3,
   "id": "2bd3d1d1",
   "metadata": {},
   "outputs": [],
   "source": [
    "from modules.data import read_data"
   ]
  },
  {
   "cell_type": "code",
   "execution_count": null,
   "id": "80b4eb95",
   "metadata": {},
   "outputs": [
    {
     "name": "stdout",
     "output_type": "stream",
     "text": [
      "Index(['STRUCTURE', 'STRUCTURE_ID', 'STRUCTURE_NAME', 'ACTION', 'FREQ',\n",
      "       'Frequency of observation', 'REF_AREA', 'Reference area', 'SECTOR',\n",
      "       'Institutional sector', 'COUNTERPART_SECTOR',\n",
      "       'Counterpart institutional sector', 'TRANSACTION', 'Transaction',\n",
      "       'INSTR_ASSET', 'Financial instruments and non-financial assets',\n",
      "       'ACTIVITY', 'Economic activity', 'EXPENDITURE', 'Expenditure',\n",
      "       'UNIT_MEASURE', 'Unit of measure', 'PRICE_BASE', 'Price base',\n",
      "       'TRANSFORMATION', 'Transformation', 'TABLE_IDENTIFIER',\n",
      "       'Table identifier', 'TIME_PERIOD', 'Time period', 'OBS_VALUE',\n",
      "       'Observation value', 'REF_YEAR_PRICE', 'Price reference year',\n",
      "       'CONF_STATUS', 'Confidentiality status', 'DECIMALS', 'Decimals',\n",
      "       'OBS_STATUS', 'Observation status', 'UNIT_MULT', 'Unit multiplier',\n",
      "       'CURRENCY', 'Currency'],\n",
      "      dtype='object')\n",
      "       Country  Year  GDP (millions USD)\n",
      "0      Germany  2000         1966980.701\n",
      "1        Japan  2000         4968359.153\n",
      "2  Switzerland  2000          279209.008\n",
      "3       Brazil  2000          655448.188\n",
      "4      Germany  2001         1966381.497\n",
      "                          Country  Year  GDP (millions USD)\n",
      "0                         Germany  2000        1.966981e+06\n",
      "1                           Japan  2000        4.968359e+06\n",
      "2                     Switzerland  2000        2.792090e+05\n",
      "3                          Brazil  2000        6.554482e+05\n",
      "4                         Germany  2001        1.966381e+06\n",
      "..                            ...   ...                 ...\n",
      "154  China (People’s Republic of)  2021        1.820170e+07\n",
      "155                         Japan  2022        4.262463e+06\n",
      "156                   Switzerland  2022        8.285089e+05\n",
      "157  China (People’s Republic of)  2022        1.831676e+07\n",
      "158                       Germany  2022        4.201022e+06\n",
      "\n",
      "[159 rows x 3 columns]\n"
     ]
    }
   ],
   "source": [
    "path = \"./Data.csv\"\n",
    "df = read_data(path)\n",
    "print(df)"
   ]
  },
  {
   "cell_type": "code",
   "execution_count": null,
   "id": "693e10b8",
   "metadata": {},
   "outputs": [],
   "source": []
  }
 ],
 "metadata": {
  "kernelspec": {
   "display_name": "FED_venv",
   "language": "python",
   "name": "python3"
  },
  "language_info": {
   "codemirror_mode": {
    "name": "ipython",
    "version": 3
   },
   "file_extension": ".py",
   "mimetype": "text/x-python",
   "name": "python",
   "nbconvert_exporter": "python",
   "pygments_lexer": "ipython3",
   "version": "3.12.12"
  }
 },
 "nbformat": 4,
 "nbformat_minor": 5
}
